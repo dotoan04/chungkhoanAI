{
  "cells": [
    {
      "cell_type": "markdown",
      "metadata": {},
      "source": [
        "# CHUNGKHOAN AI - Google Colab Research Pipeline\n",
        "\n",
        "## **Luan van nghien cuu: Du doan gia co phieu su dung Deep Learning**\n",
        "\n",
        "---\n",
        "\n",
        "## Tong quan\n",
        "Notebook nay chay pipeline hoan chinh de tao tat ca ket qua can thiet cho luan van:\n",
        "- Thu thap du lieu tu vnstock API\n",
        "- Baseline models (Naive, SMA, EMA, ARIMA)\n",
        "- Deep Learning models (TCN-Residual, GRU, LSTM)\n",
        "- Ensemble learning\n",
        "- Backtesting va danh gia\n",
        "- Tao bao cao LaTeX cho luan van\n",
        "\n",
        "## **Cai tien moi (Fix scaling & loss function)**\n",
        "- ✅ Fixed: Khong scale targets (y) - giu nguyen log-returns\n",
        "- ✅ Fixed: Giam delta Huber loss tu 1.0 xuong 0.1 cho log-returns nho\n",
        "- ✅ Improved: Model se nhay cam hon voi bien dong nho\n",
        "\n",
        "---"
      ]
    },
    {
      "cell_type": "markdown",
      "metadata": {},
      "source": [
        "## Buoc 1: Cai dat moi truong"
      ]
    },
    {
      "cell_type": "code",
      "execution_count": null,
      "metadata": {},
      "outputs": [],
      "source": [
        "# Kiem tra GPU\n",
        "!nvidia-smi\n",
        "\n",
        "# Cai dat packages can thiet\n",
        "!pip install -q vnstock pandas numpy pandas-ta scikit-learn matplotlib tensorflow statsmodels PyYAML tqdm scipy\n",
        "\n",
        "# Clone repository (neu can)\n",
        "# !git clone https://github.com/your-repo/chungkhoan-ai.git\n",
        "# %cd chungkhoan-ai\n",
        "\n",
        "print(\"Environment setup completed!\")"
      ]
    },
    {
      "cell_type": "markdown",
      "metadata": {},
      "source": [
        "## Buoc 2: Thu thap du lieu"
      ]
    },
    {
      "cell_type": "code",
      "execution_count": null,
      "metadata": {},
      "outputs": [],
      "source": [
        "# Mount Google Drive (tuy chon)\n",
        "from google.colab import drive\n",
        "drive.mount('/content/drive')\n",
        "\n",
        "# Thay doi working directory\n",
        "%cd /content/drive/MyDrive/ChungKhoanAI  # Thay doi duong dan phu hop\n",
        "\n",
        "# Thu thap du lieu (tu dong fallback sang sample data neu gap loi 403)\n",
        "!python src/collect_vnstock.py --tickers FPT HPG VNM VNINDEX --start 2015-01-01 --end 2025-08-28\n",
        "\n",
        "print(\"Data collection completed!\")\n",
        "print(\"Luu y: Neu thay 'Creating sample data', co nghia la API bi chan va dang su dung du lieu mau\")"
      ]
    },
    {
      "cell_type": "markdown",
      "metadata": {},
      "source": [
        "## Buoc 3: Chuan bi dataset"
      ]
    },
    {
      "cell_type": "code",
      "execution_count": null,
      "metadata": {},
      "outputs": [],
      "source": [
        "# Chuan bi dataset cho baseline comparison\n",
        "!python src/prepare_dataset.py --config configs/config_baseline.yaml\n",
        "\n",
        "print(\"Dataset preparation completed!\")"
      ]
    },
    {
      "cell_type": "markdown",
      "metadata": {},
      "source": [
        "## Buoc 4: Baseline Models"
      ]
    },
    {
      "cell_type": "code",
      "execution_count": null,
      "metadata": {},
      "outputs": [],
      "source": [
        "# Chay baseline models\n",
        "!python run_baselines.py --tickers FPT HPG VNM\n",
        "\n",
        "print(\"Baseline models completed!\")"
      ]
    },
    {
      "cell_type": "markdown",
      "metadata": {},
      "source": [
        "## Buoc 5: Deep Learning Models"
      ]
    },
    {
      "cell_type": "code",
      "execution_count": null,
      "metadata": {},
      "outputs": [],
      "source": [
        "# Training TCN models (optimized极 for T4 GPU - ~5-7 minutes)\n",
        "!python src/train.py --config configs/config_baseline.yaml\n",
        "\n",
        "print(\"Deep learning training completed!\")\n",
        "print(\"Optimized for T4 15GB GPU with memory management\")\n",
        "print(\"NOTE: Da fix scaling (khong scale targets) va loss function (delta=0.1)\")\n"
      ]
    },
    {
      "cell_type": "markdown",
      "metadata": {},
      "source": [
        "## Buoc 6: Ensemble Models"
      ]
    },
    {
      "cell_type": "code",
      "execution_count": null,
      "metadata": {},
      "outputs": [],
      "source": [
        "# Tao ensemble predictions\n",
        "!python src/ensemble.py --config configs/config_baseline.yaml\n",
        "\n",
        "print(\"Ensemble creation completed!\")"
      ]
    },
    {
      "cell_type": "markdown",
      "metadata": {},
      "source": [
        "## Buoc 7: So sanh va phan tich"
      ]
    },
    {
      "cell_type": "code",
      "execution_count": null,
      "metadata": {},
      "outputs": [],
      "source": [
        "# So sanh baseline vs DL models\n",
        "!python compare_baselines.py\n",
        "\n",
        "print(\"Comparison analysis completed!\")"
      ]
    },
    {
      "cell_type": "markdown",
      "metadata": {},
      "source": [
        "## Buoc 8: Tao bao cao cho luan van"
      ]
    },
    {
      "cell_type": "code",
      "execution_count": null,
      "metadata": {},
      "outputs": [],
      "source": [
        "# Tao research summary\n",
        "import sys\n",
        "sys.path.append('src')\n",
        "from research_summary import generate_research_report\n",
        "generate_research_report()\n",
        "\n",
        "print(\"Research reports generated!\")"
      ]
    },
    {
      "cell_type": "markdown",
      "metadata": {},
      "source": [
        "## Buoc 9: Kiem tra ket qua"
      ]
    },
    {
      "cell_type": "code",
      "execution_count": null,
      "metadata": {},
      "outputs": [],
      "source": [
        "# Hien thi tom tat ket qua\n",
        "print(\"RESEARCH COMPLETION SUMMARY\")\n",
        "print(\"=\" * 60)\n",
        "\n",
        "# Doc va hien thi summary\n",
        "with open('reports/research_summary.txt', 'r', encoding='utf-8') as f:\n",
        "    content = f.read()\n",
        "    print(content[:1000])  # Hien thi 1000 ky tu dau\n",
        "    print(\"...\")\n",
        "    print(f\"\\nFull summary available at: reports/research_summary.txt\")\n",
        "    print(f\"LaTeX tables available at: reports/latex_tables/\")\n",
        "    print(f\"Detailed results available at: reports/\")\n",
        "\n",
        "print(\"Ready for thesis writing!\")"
      ]
    },
    {
      "cell_type": "markdown",
      "metadata": {},
      "source": [
        "## Buoc 10: Download ket qua"
      ]
    },
    {
      "cell_type": "code",
      "execution_count": null,
      "metadata": {},
      "outputs": [],
      "source": [
        "# Tao zip file de download\n",
        "import shutil\n",
        "\n",
        "# Zip toan bo reports folder\n",
        "shutil.make_archive('thesis_results', 'zip', 'reports')\n",
        "\n",
        "print(\"Results zipped as: thesis_results.zip\")\n",
        "print(\"Download file nay ve may de su dung cho luan van\")"
      ]
    }
  ],
  "metadata": {
    "kernelspec": {
      "display_name": "Python 3",
      "language": "python",
      "name": "python3"
    },
    "language_info": {
      "codemirror_mode": {
        "name": "ipython",
        "version": 3
      },
      "file_extension": ".py",
      "mimetype": "text/x-python",
      "name": "python",
      "nbconvert_exporter": "python",
      "pygments_lexer": "ipython3",
      "version": "3.8.0"
    }
  },
  "nbformat": 4,
  "nbformat_minor": 4
}
